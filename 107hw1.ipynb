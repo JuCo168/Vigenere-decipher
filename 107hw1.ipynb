{
  "nbformat": 4,
  "nbformat_minor": 0,
  "metadata": {
    "colab": {
      "name": "107hw1.ipynb",
      "provenance": [],
      "collapsed_sections": [],
      "authorship_tag": "ABX9TyMVtl8kf+lusrpPVD1X/QiT",
      "include_colab_link": true
    },
    "kernelspec": {
      "name": "python3",
      "display_name": "Python 3"
    },
    "language_info": {
      "name": "python"
    }
  },
  "cells": [
    {
      "cell_type": "markdown",
      "metadata": {
        "id": "view-in-github",
        "colab_type": "text"
      },
      "source": [
        "<a href=\"https://colab.research.google.com/github/JuCo168/Vigenere-decipher/blob/main/107hw1.ipynb\" target=\"_parent\"><img src=\"https://colab.research.google.com/assets/colab-badge.svg\" alt=\"Open In Colab\"/></a>"
      ]
    },
    {
      "cell_type": "code",
      "metadata": {
        "id": "Xg-Mfnfq1iGu"
      },
      "source": [
        "import matplotlib.pyplot as plt\n",
        "import numpy as np\n",
        "from matplotlib import colors\n",
        "from matplotlib.ticker import PercentFormatter\n",
        "import string\n",
        "import math"
      ],
      "execution_count": null,
      "outputs": []
    },
    {
      "cell_type": "code",
      "metadata": {
        "colab": {
          "base_uri": "https://localhost:8080/",
          "height": 283
        },
        "id": "erKP5Ia_12Ll",
        "outputId": "32d674cf-fa8c-4185-ba79-f88f5548ee16"
      },
      "source": [
        "# cipher text\n",
        "cipher = ('NBLRFMGYMYNUAGJKGRWPHIGISHTXHHLBQQVHCGZXVBHONVRVAFJYGUIGXTIEPMWTILFRKBJHSZ'\n",
        "    'RAMAWMVETRGMYADJENBAHEQJZWNBXAWNUCGDTVTAGHQQVFHCBQATSRZNFQENHUGLVZGFINGMVTAGRUKX'\n",
        "    'FGMHFPBYWMVPXHWHUAWNHWCOEJTHGOFRFWGTASNQLHZFHNWQHSOFFHKNWWNLWWAFJYFWZHSUYAFZRUHC'\n",
        "    'BQAMFBXNULLYVYQHDXQCJZHVMFBXERJNXHUQRXMNCHBIAMWCHTHVVWMJGLWGNGUXHGMTCFGRAXHILRFW'\n",
        "    'FRSLPHIGIHLNGMLFTYTXIKIDLVYIMJWHSRZFFHCBQXKTAIGHNKJSYKSZXXGCBQIGIOMFRKBFHCBQIGIG'\n",
        "    'NEHVZYVYAFGUJFMRFCKNHSGKMWJDUEWUXSHCFRVMMSZERVMQWHRVWYYVYSLOAYOANLVLYQSOHZVWWGRD'\n",
        "    'VWBSEAREYNFMGKIGIHBRGIFFUYGKIMHOHOHKTZGYQEGMMCMRZPHJLJYRQMAIFAHZTGZYNQLBSGYPXZXX'\n",
        "    'MMGHULBSMHSXHWHUAGMGHCOEDOXYVYHVMHKGYPXZXSSNJRZDXHICUMOJBNPBJXWHBEHIMXHIBXZVWWNV'\n",
        "    'FIESONVRVTQWHSUILYFOPWCKJCOELVMJZFRFBNFZJERXXWHSNQLHZFXNWILTOMGRXKTAIGHWNWCPRUIE'\n",
        "    'QGUSHBRFAYELKTSQCGLHXSGWNUMWJSJYBIUTINCUQOFQSNQLKNUBGOGLTAUABKHRDUALMLMOPREMXSFY'\n",
        "    'FSWGIWHTWWTROLXHBWJAUAGNHWDLBGCVYGUAGAXWJCPHAMMONCUWMJQNGKMIWWPNFGTSRMRFCKNHSBIB'\n",
        "    'AJWLPXAMTAYEVBANGBNVOXSSLNWMWUCMVWQOJWHARDTYWIAWPTYVUFEMXSQLHFQTQHIGKMWNUCGDTXHC'\n",
        "    'HBPGPJHIBFIKJOVBXBMMSMRLUITFNNQBIWWHPLXEJGCAGMXIWNVVWNWCVYLOTYWIAWWNUVIYGKBAWFYL'\n",
        "    'JXWHCRVQGHZOQLVZYVYELOAYHICUQOFQSJHPTASUYZIRXFYFSMVYSXGKMYZBXNPMGYOFELOAYCZCHWIQ'\n",
        "    'SNBHVZFUYVQXKNJUGHKHRAOALKTYWIAVZXLOLQOMLXCZGKMFJRCHPWKYSWUQWETUSJKMMMSLVWQLNBMG'\n",
        "    'DVMRSMFDOXXHYKWAHWCFQIILMWIAHLEJHNRUAVNHCMHVLMOPRWPXWWAUWBHHCGZXVB')\n",
        "\n",
        "# English alphabet frequency\n",
        "freq = [\n",
        "      0.082,  #A\n",
        "      0.015,  #B\n",
        "      0.028,  #C\n",
        "      0.043,  #D\n",
        "      0.130,  #E\n",
        "      0.022,  #F\n",
        "      0.020,  #G\n",
        "      0.061,  #H\n",
        "      0.070,  #I\n",
        "      0.0015, #J\n",
        "      0.0077, #K\n",
        "      0.040,  #L\n",
        "      0.024,  #M\n",
        "      0.067,  #N\n",
        "      0.075,  #O\n",
        "      0.019,  #P\n",
        "      0.00095,#Q\n",
        "      0.060,  #R\n",
        "      0.063,  #S\n",
        "      0.091,  #T\n",
        "      0.028,  #U\n",
        "      0.0098, #V\n",
        "      0.024,  #W\n",
        "      0.0015, #X\n",
        "      0.020,  #Y\n",
        "      0.00074,#Z\n",
        "        ]\n",
        "alphabet = list(string.ascii_uppercase)\n",
        "print(alphabet)\n",
        "\n",
        "plt.bar(alphabet, freq, align='center')\n",
        "plt.xticks(alphabet, alphabet)\n",
        "plt.show()"
      ],
      "execution_count": null,
      "outputs": [
        {
          "output_type": "stream",
          "name": "stdout",
          "text": [
            "['A', 'B', 'C', 'D', 'E', 'F', 'G', 'H', 'I', 'J', 'K', 'L', 'M', 'N', 'O', 'P', 'Q', 'R', 'S', 'T', 'U', 'V', 'W', 'X', 'Y', 'Z']\n"
          ]
        },
        {
          "output_type": "display_data",
          "data": {
            "image/png": "[encoded data removed]",
            "text/plain": [
              "<Figure size 432x288 with 1 Axes>"
            ]
          },
          "metadata": {
            "needs_background": "light"
          }
        }
      ]
    },
    {
      "cell_type": "code",
      "metadata": {
        "id": "n2NDg2ze2NC0"
      },
      "source": [
        "# finds possible key lengths\n",
        "def findKeyLen(cipher):\n",
        "    match = False\n",
        "    pattern = ''\n",
        "    c = 0\n",
        "\n",
        "    for idx1, i in enumerate(cipher):\n",
        "        for idx2, j in enumerate(cipher[idx1 + 1:]):\n",
        "            if not match and j == i and idx2 < 16:\n",
        "                match = True\n",
        "                c += 1\n",
        "                pattern += i\n",
        "                continue\n",
        "            if match and (j == cipher[idx1 + c]):\n",
        "                pattern += j\n",
        "                c += 1\n",
        "                continue\n",
        "            if match and (j != cipher[idx1 + c]) or idx2 > 16:\n",
        "                if len(pattern) > 2:\n",
        "                    print('pattern: ', pattern)\n",
        "                    print('distance: ', idx2 - len(pattern) + 1)\n",
        "                match = False\n",
        "                pattern = ''\n",
        "                c = 0\n",
        "                continue\n",
        "        pattern = ''\n",
        "        c = 0"
      ],
      "execution_count": null,
      "outputs": []
    },
    {
      "cell_type": "code",
      "metadata": {
        "id": "ELeOBbfF2cOf"
      },
      "source": [
        "# frequency analysis\n",
        "def findKey(cipher):\n",
        "  cBuf = []             # character buffer\n",
        "  fBuf = np.zeros(26)   # freuqencey buffer\n",
        "  hBuf = np.zeros(26)   # similarity % buffer\n",
        "  count = 0.0           # count matches\n",
        "  key = ''              # key\n",
        "\n",
        "  for i in range(7):  # key has 7 letters\n",
        "    cBuf.clear()      # clear the character buffer\n",
        "    for idx1, j in enumerate(cipher):\n",
        "      if (idx1 % 7) == i: # get every 7th character\n",
        "        cBuf.append(j)\n",
        "    for k in cBuf: # construct frequency table\n",
        "      fBuf[ord(k) - 65] += 1.0\n",
        "    fBuf /= len(cBuf)\n",
        "    for w in range(26): # 26 possible shifts\n",
        "      count = 0\n",
        "      for idx2, x in enumerate(fBuf):\n",
        "        if x == 0:\n",
        "          continue;\n",
        "        if math.isclose(freq[idx2], x, rel_tol = 0.8):\n",
        "          count += 1\n",
        "      hBuf[w] = count / 26\n",
        "      fBuf = np.roll(fBuf, -1)\n",
        "    key += chr(np.argmax(hBuf) + ord('A'))\n",
        "\n",
        "  print(key)\n",
        "  return key \n",
        "    "
      ],
      "execution_count": null,
      "outputs": []
    },
    {
      "cell_type": "code",
      "metadata": {
        "id": "hG3GAnGcdq9e"
      },
      "source": [
        "def decrypt(cipher, key):\n",
        "    m = ''\n",
        "    i = 0\n",
        "    for c in cipher:\n",
        "        asciiC = ord(c)\n",
        "        asciiK = ord(key[i])\n",
        "        asciiM = (asciiC - asciiK) % 26\n",
        "        m += chr(asciiM + 65)\n",
        "        i = (i + 1) % 7\n",
        "\n",
        "    print(m)"
      ],
      "execution_count": null,
      "outputs": []
    },
    {
      "cell_type": "code",
      "metadata": {
        "colab": {
          "base_uri": "https://localhost:8080/"
        },
        "id": "x2I6sSPodr1_",
        "outputId": "78b723e3-61f0-4d8a-a306-0ae7f66f2aab"
      },
      "source": [
        "findKeyLen(cipher)\n",
        "print()\n",
        "key = findKey(cipher)\n",
        "print()\n",
        "decrypt(cipher, key)"
      ],
      "execution_count": null,
      "outputs": [
        {
          "output_type": "stream",
          "name": "stdout",
          "text": [
            "pattern:  CBQIGI\n",
            "distance:  14\n",
            "pattern:  BQIGI\n",
            "distance:  14\n",
            "pattern:  QIGI\n",
            "distance:  14\n",
            "pattern:  IGI\n",
            "distance:  14\n",
            "pattern:  RVM\n",
            "distance:  7\n",
            "pattern:  GKI\n",
            "distance:  14\n",
            "pattern:  HOH\n",
            "distance:  2\n",
            "pattern:  LBS\n",
            "distance:  15\n",
            "pattern:  UAG\n",
            "distance:  14\n",
            "\n",
            "FOUNDIT\n",
            "\n",
            "INRECENTYEARSNEWMETHODSOFELECTRONICCOMMUNICATIONHAVETRANSFORMEDOURSOCIETYMOSTVISIBLYBYENABLINGUBIQUITOUSDIGITALCOMMUNICATIONSANDFACILITATINGBROADECOMMERCEASSUCHITISIMPORTANTFOROURGLOBALECONOMYANDOURNATIONALSECURITYTOHAVESTRONGENCRYPTIONSTANDARDSTHEDEVELOPMENTANDROBUSTADOPTIONOFSTRONGENCRYPTIONISAKEYTOOLTOSECURECOMMERCEANDTRADESAFEGUARDPRIVATEINFORMATIONPROMOTEFREEEXPRESSIONANDASSOCIATIONANDSTRENGTHENCYBERSECURITYTHEDEPARTMENTISONTHEFRONTLINESOFTHEFIGHTAGAINSTCYBERCRIMEANDWEKNOWFIRSTHANDTHEDAMAGETHATCANBECAUSEDBYTHOSEWHOEXPLOITVULNERABLEANDINSECURESYSTEMSWESUPPORTANDENCOURAGETHEUSEOFSECURENETWORKSTOPREVENTCYBERTHREATSTOOURCRITICALNATIONALINFRASTRUCTUREOURINTELLECTUALPROPERTYANDOURDATASOASTOPROMOTEOUROVERALLSAFETYAMERICANCITIZENSCAREDEEPLYABOUTPRIVACYANDRIGHTLYSOMANYCOMPANIESHAVEBEENRESPONDINGTOAMARKETDEMANDFORPRODUCTSANDSERVICESTHATPROTECTTHEPRIVACYANDSECURITYOFTHEIRCUSTOMERSTHISHASGENERATEDPOSITIVEINNOVATIONTHATHASBEENCRUCIALTOTHEDIGITALECONOMYWETOOCAREABOUTTHESEIMPORTANTPRINCIPLESINDEEDITISOUROBLIGATIONTOUPHOLDCIVILLIBERTIESINCLUDINGTHERIGHTTOPRIVACYWEHAVEALWAYSRESPECTEDTHEFUNDAMENTALRIGHTOFPEOPLETOENGAGEINPRIVATECOMMUNICATIONSREGARDLESSOFTHEMEDIUMORTECHNOLOGYWHETHERITISINSTANTMESSAGESTEXTSOROLDFASHIONEDLETTERSCITIZENSHAVETHERIGHTTOCOMMUNI\n"
          ]
        }
      ]
    }
  ]
}